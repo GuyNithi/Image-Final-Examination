{
 "cells": [
  {
   "cell_type": "code",
   "execution_count": 4,
   "metadata": {},
   "outputs": [],
   "source": [
    "import numpy as np\n",
    "import cv2 \n",
    "# # import scipy\n",
    "# from PIL import Image"
   ]
  },
  {
   "cell_type": "code",
   "execution_count": 5,
   "metadata": {},
   "outputs": [],
   "source": [
    "def preprocessing(img) :\n",
    "    img_gray = cv2.cvtColor(img, cv2.COLOR_BGR2GRAY)\n",
    "    # img = cv2.cvtColor(img, cv2.COLOR_BGR2RGB)\n",
    "    return (img, img_gray)"
   ]
  },
  {
   "cell_type": "code",
   "execution_count": 6,
   "metadata": {},
   "outputs": [],
   "source": [
    "vdo = cv2.VideoCapture('left_output.avi') ### Video\n",
    "template_img = cv2.imread('Template-1.png')   ### images\n",
    "template_img, template_gray = preprocessing(template_img)"
   ]
  },
  {
   "cell_type": "code",
   "execution_count": 7,
   "metadata": {},
   "outputs": [],
   "source": [
    "sift = cv2.SIFT_create()\n",
    "bf = cv2.BFMatcher()"
   ]
  },
  {
   "cell_type": "code",
   "execution_count": 8,
   "metadata": {},
   "outputs": [],
   "source": [
    "### หา good_matches\n",
    "def feature_object_detection(template_img, template_gray, query_img, query_gray, min_match_number) : \n",
    "    template_kpts, template_desc = sift.detectAndCompute(template_gray, None)\n",
    "    query_kpts, query_desc = sift.detectAndCompute(query_gray, None)\n",
    "    matches = bf.knnMatch(template_desc, query_desc, k=2)\n",
    "    good_matches = list()\n",
    "    good_matches_list = list()\n",
    "    for m, n in matches :\n",
    "        if m.distance < 0.8*n.distance :\n",
    "            good_matches.append(m)\n",
    "            good_matches_list.append([m])\n",
    "    \n",
    "    if len(good_matches) > min_match_number :\n",
    "        src_pts = np.float32([ template_kpts[m.queryIdx].pt for m in good_matches ]).reshape(-1,1,2)\n",
    "        dst_pts = np.float32([ query_kpts[m.trainIdx].pt for m in good_matches ]).reshape(-1,1,2)\n",
    "\n",
    "        H, inlier_masks = cv2.findHomography(src_pts, dst_pts, cv2.RANSAC, 5.0) # H RANSAC\n",
    "        # get the bounding box around template image\n",
    "        h, w = template_img.shape[:2]\n",
    "        template_box = np.float32([[0, 0], [0, h-1], [w-1, h-1], [w-1, 0]]).reshape(-1,1,2)\n",
    "        transformed_box = cv2.perspectiveTransform(template_box, H)\n",
    "\n",
    "        detected_img = cv2.polylines(query_img, [np.int32(transformed_box)], True, (100,255,155), 3, cv2.LINE_AA) ### สร้างเส้นที่ใช้ในการตรวจจับ\n",
    "        drawmatch_img = cv2.drawMatchesKnn(template_img, template_kpts, detected_img, query_kpts, good_matches_list, None, flags=2, matchesMask=inlier_masks)\n",
    "        cv2.imshow('frame',detected_img)\n",
    "\n",
    "        return detected_img, drawmatch_img\n",
    "    else :\n",
    "        return\n",
    "        \n",
    "#"
   ]
  },
  {
   "cell_type": "code",
   "execution_count": 9,
   "metadata": {},
   "outputs": [],
   "source": [
    "while vdo.isOpened() :\n",
    "    ret, frame = vdo.read()\n",
    "    # y = 252\n",
    "    # width = 455 - x\n",
    "    # height = 395 - y\n",
    "    # term_criteria = (cv2.TERM_CRITERIA_EPS | cv2.TERM_CRITERIA_COUNT, 10, 1)\n",
    "    if ret :\n",
    "        img_to_hsv = cv2.cvtColor(frame,cv2.COLOR_BGR2HSV) \n",
    "        upper = np.array([30,255,255]) \n",
    "        lower = np.array([20,120,100]) \n",
    "        frame_yellow = cv2.inRange(img_to_hsv,lower,upper)\n",
    "        cv2.imshow('frame_yellow ',frame_yellow)\n",
    "        \n",
    "        upper = np.array([10,255,100]) \n",
    "        lower = np.array([0,100,50]) \n",
    "        frame_red = cv2.inRange(img_to_hsv,lower,upper)\n",
    "        cv2.imshow('frame_red',frame_red)\n",
    "\n",
    "        white_colour = np.ones_like(frame_red,np.uint8)*255\n",
    "        sum_colour = cv2.bitwise_or(frame_yellow,frame_red, mask= white_colour)\n",
    "        cv2.imshow('sum_colour',sum_colour)\n",
    "\n",
    "        contours,hierarchys = cv2.findContours(sum_colour ,cv2.RETR_TREE,cv2.CHAIN_APPROX_SIMPLE)                                                                                            \n",
    "        back_mask = np.zeros(sum_colour.shape[:2],np.uint8) \n",
    "        cv2.imshow(' back_mask',back_mask)\n",
    "        for X in range(len(contours)):     \n",
    "            if cv2.contourArea(contours[X])>800 :  \n",
    "                cv2.drawContours(back_mask,contours,X,(255,255,255),5)\n",
    "                cv2.drawContours(back_mask,contours,X,(255,255,255),-1)\n",
    "\n",
    "        contours_mask = cv2.bitwise_or(frame,frame, mask = back_mask)\n",
    "        contours_mask_gray = cv2.cvtColor(contours_mask, cv2.COLOR_BGR2GRAY)\n",
    "        cv2.imshow('contours_mask_gray',contours_mask_gray)\n",
    "        detected, drawmatch =  feature_object_detection(template_img, template_gray, frame, contours_mask_gray, 8)\n",
    "\n",
    "        # ret, track_window = cv2.CamShift(mask_1_gray, (x, y, width, height), term_criteria)\n",
    "        # pts = cv2.boxPoints(ret)\n",
    "        # pts = np.int0(pts)\n",
    "        # cv2.polylines(frame, [pts], True, (0,255,0), 5)\n",
    "        # cv2.imshow('mask_1',frame)\n",
    "\n",
    "        if cv2.waitKey(1) & 0xFF == ord('q') : # this line control the period between image frame\n",
    "            break\n",
    "    else :\n",
    "        break\n",
    "vdo.release()\n",
    "cv2.destroyAllWindows()"
   ]
  }
 ],
 "metadata": {
  "kernelspec": {
   "display_name": "Python 3.10.8 64-bit",
   "language": "python",
   "name": "python3"
  },
  "language_info": {
   "codemirror_mode": {
    "name": "ipython",
    "version": 3
   },
   "file_extension": ".py",
   "mimetype": "text/x-python",
   "name": "python",
   "nbconvert_exporter": "python",
   "pygments_lexer": "ipython3",
   "version": "3.10.8"
  },
  "orig_nbformat": 4,
  "vscode": {
   "interpreter": {
    "hash": "a42ccb73e7d9bfdf27e036f1d2b8b681e55fc0743cc5586bc2474d4a60f4b886"
   }
  }
 },
 "nbformat": 4,
 "nbformat_minor": 2
}
